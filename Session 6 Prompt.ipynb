{
 "cells": [
  {
   "cell_type": "code",
   "execution_count": 15,
   "id": "8d130509-1eb2-49a4-a69c-97db7e7089b4",
   "metadata": {},
   "outputs": [
    {
     "name": "stdout",
     "output_type": "stream",
     "text": [
      "Requirement already satisfied: numpy in c:\\users\\sabia\\appdata\\local\\programs\\python\\python313\\lib\\site-packages (2.2.5)\n"
     ]
    },
    {
     "name": "stderr",
     "output_type": "stream",
     "text": [
      "\n",
      "[notice] A new release of pip is available: 24.3.1 -> 25.0.1\n",
      "[notice] To update, run: python.exe -m pip install --upgrade pip\n"
     ]
    }
   ],
   "source": [
    "!pip install numpy"
   ]
  },
  {
   "cell_type": "code",
   "execution_count": 11,
   "id": "92c6daa5-281a-4275-8b75-a15c7f995074",
   "metadata": {},
   "outputs": [],
   "source": [
    "import math\n",
    "\n",
    "\n",
    "def sin_function(x):\n",
    "    return math.sin(x)"
   ]
  },
  {
   "cell_type": "code",
   "execution_count": 12,
   "id": "267dd987-aec5-48a9-a433-9a5040dc0816",
   "metadata": {},
   "outputs": [],
   "source": [
    "def cos_function(x):\n",
    "    return math.cos(x)"
   ]
  },
  {
   "cell_type": "code",
   "execution_count": 13,
   "id": "f11dd4c1-4b29-4bdf-ba11-105b69e5b14e",
   "metadata": {},
   "outputs": [],
   "source": [
    "import numpy as np\n",
    "\n",
    "x_values = np.linspace(0, 2 * math.pi, 1000)\n",
    "sin_values = [sin_function(x) for x in x_values]\n",
    "cos_values = [cos_function(x) for x in x_values]"
   ]
  },
  {
   "cell_type": "code",
   "execution_count": 14,
   "id": "40dcfaa3-01f6-4740-a66f-c30a330facff",
   "metadata": {},
   "outputs": [
    {
     "name": "stdout",
     "output_type": "stream",
     "text": [
      "x\t\t sin(x)\t\t cos(x)\n",
      "----------------------------------------\n",
      "0.000000\t 0.000000\t 1.000000\n",
      "0.006289\t 0.006289\t 0.999980\n",
      "0.012579\t 0.012579\t 0.999921\n",
      "0.018868\t 0.018867\t 0.999822\n",
      "0.025158\t 0.025155\t 0.999684\n",
      "0.031447\t 0.031442\t 0.999506\n",
      "0.037737\t 0.037728\t 0.999288\n",
      "0.044026\t 0.044012\t 0.999031\n",
      "0.050316\t 0.050295\t 0.998734\n",
      "0.056605\t 0.056575\t 0.998398\n"
     ]
    }
   ],
   "source": [
    "print(\"x\\t\\t sin(x)\\t\\t cos(x)\")\n",
    "print(\"-\" * 40)\n",
    "\n",
    "for i in range(10):\n",
    "    print(f\"{x_values[i]:.6f}\\t {sin_values[i]:.6f}\\t {cos_values[i]:.6f}\")"
   ]
  }
 ],
 "metadata": {
  "kernelspec": {
   "display_name": "Python 3 (ipykernel)",
   "language": "python",
   "name": "python3"
  },
  "language_info": {
   "codemirror_mode": {
    "name": "ipython",
    "version": 3
   },
   "file_extension": ".py",
   "mimetype": "text/x-python",
   "name": "python",
   "nbconvert_exporter": "python",
   "pygments_lexer": "ipython3",
   "version": "3.13.2"
  }
 },
 "nbformat": 4,
 "nbformat_minor": 5
}
